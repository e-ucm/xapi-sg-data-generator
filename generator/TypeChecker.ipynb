{
 "cells": [
  {
   "cell_type": "markdown",
   "source": [
    "**Type Checker**"
   ],
   "metadata": {
    "collapsed": false
   }
  },
  {
   "cell_type": "code",
   "execution_count": null,
   "outputs": [],
   "source": [
    "def checkType(checkType, randomID, randomPlayer, types):\n",
    "    randomType=None\n",
    "    for type in checkType.keys():\n",
    "            if randomID in checkType[type].keys():\n",
    "                randomType=type\n",
    "    if randomType==None:\n",
    "            randomType=random.choice(types)\n",
    "            if randomType not in checkType.keys():\n",
    "                checkType[randomType]={}\n",
    "            checkType[randomType][randomID]={}\n",
    "    if randomPlayer not in checkType[randomType][randomID].keys():\n",
    "            checkType[randomType][randomID][randomPlayer]=None\n",
    "    return randomType"
   ],
   "metadata": {
    "collapsed": false,
    "pycharm": {
     "name": "#%%\n"
    }
   }
  }
 ],
 "metadata": {
  "kernelspec": {
   "display_name": "Python 3",
   "language": "python",
   "name": "python3"
  },
  "language_info": {
   "codemirror_mode": {
    "name": "ipython",
    "version": 2
   },
   "file_extension": ".py",
   "mimetype": "text/x-python",
   "name": "python",
   "nbconvert_exporter": "python",
   "pygments_lexer": "ipython2",
   "version": "2.7.6"
  }
 },
 "nbformat": 4,
 "nbformat_minor": 0
}