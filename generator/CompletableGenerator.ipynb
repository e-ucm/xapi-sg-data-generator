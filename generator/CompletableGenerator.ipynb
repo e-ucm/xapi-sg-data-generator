{
 "cells": [
  {
   "cell_type": "code",
   "execution_count": null,
   "outputs": [],
   "source": [
    "%run generator/statementGenerator.ipynb\n",
    "%run generator/IDsPlayerTimeGenerator.ipynb\n",
    "%run generator/TypeChecker.ipynb"
   ],
   "metadata": {
    "collapsed": false,
    "pycharm": {
     "name": "#%%\n"
    }
   }
  },
  {
   "cell_type": "markdown",
   "source": [
    "**Select number of traces, players and IDs** to generate"
   ],
   "metadata": {
    "collapsed": false
   }
  },
  {
   "cell_type": "code",
   "execution_count": null,
   "outputs": [],
   "source": [
    "nbtracesCompletable = widgets.IntSlider(description=\"Traces\", min=0, value=1, max=10000, continuous_update=False)\n",
    "nbtracesCompletabletext = widgets.IntText(description=\"\", continuous_update=False)\n",
    "widgets.link((nbtracesCompletable, 'value'), (nbtracesCompletabletext, 'value'))\n",
    "tracesCompletable=VBox([nbtracesCompletable,nbtracesCompletabletext])\n",
    "\n",
    "nbplayersCompletable = widgets.IntSlider(description=\"Players\", min=0, value=1, continuous_update=False)\n",
    "nbplayersCompletabletext = widgets.IntText(description=\"\", continuous_update=False)\n",
    "widgets.link((nbplayersCompletable, 'value'), (nbplayersCompletabletext, 'value'))\n",
    "widgets.link((nbtracesCompletable, 'value'), (nbplayersCompletable, 'max'))\n",
    "playersCompletable=VBox([nbplayersCompletable,nbplayersCompletabletext])\n",
    "\n",
    "nbIDsCompletable = widgets.IntSlider(description=\"IDs\", min=0, value=1, continuous_update=False)\n",
    "nbIDsCompletabletext = widgets.IntText(description=\"\", continuous_update=False)\n",
    "widgets.link((nbIDsCompletable, 'value'), (nbIDsCompletabletext, 'value'))\n",
    "widgets.link((nbtracesCompletable, 'value'),(nbIDsCompletable, 'max'))\n",
    "IDsCompletable=VBox([nbIDsCompletable,nbIDsCompletabletext])\n",
    "\n",
    "vbox_nb_traces_ID_player_completable=VBox([tracesCompletable,playersCompletable, IDsCompletable])"
   ],
   "metadata": {
    "collapsed": false,
    "pycharm": {
     "name": "#%%\n"
    }
   }
  },
  {
   "cell_type": "markdown",
   "source": [
    "**Completables**"
   ],
   "metadata": {
    "collapsed": false
   }
  },
  {
   "cell_type": "code",
   "execution_count": null,
   "outputs": [],
   "source": [
    "types_completables=[\"serious-game\", \"game\", \"session\", \"level\", \"quest\", \"stage\", \"combat\", \"storynode\", \"race\", \"completable\"]\n",
    "checkboxes_types_completables=GeneratorMultiCheckboxWidget(\"Completables types\", types_completables)\n",
    "\n",
    "verbs_completables=[\"initialized\", \"progressed\", \"completed\"]\n",
    "checkboxes_verbs_completables=GeneratorMultiCheckboxWidget(\"Completables verbs\", verbs_completables)\n",
    "\n",
    "template_result_progress={\n",
    "    \"extensions\": {\n",
    "\t\t\"https://w3id.org/xapi/seriousgames/extensions/progress\": None,\n",
    "\t\t\"progress\": None\n",
    "\t}\n",
    "}\n",
    "\n",
    "template_result_completed_score={\n",
    "\t\"extensions\": {\n",
    "\t\t\"success\": None,\n",
    "\t\t\"score\":None\n",
    "\t}\n",
    "}\n",
    "\n",
    "def generate_completable(change=None):\n",
    "    start_time=datetime.now()\n",
    "    if change!=None:\n",
    "        with output:\n",
    "            print(\"Starting the data generation\")\n",
    "    verbs=checkboxes_verbs_completables.get_selected_options()\n",
    "    types=checkboxes_types_completables.get_selected_options()\n",
    "    ids=generate_IDs(nbIDsCompletable.value)\n",
    "    times=generate_times_datas(nbtracesCompletable.value)\n",
    "    player=generate_players(nbplayersCompletable.value)\n",
    "    statements=[]\n",
    "    checkCompletable={}\n",
    "    for i in range(nbtracesCompletable.value):\n",
    "        randomID=random.choice(ids)\n",
    "        randomPlayer=random.choice(player)\n",
    "        randomType = checkType(checkCompletable,randomID,randomPlayer,types)\n",
    "        if checkCompletable[randomType][randomID][randomPlayer] in [None, False]:\n",
    "            checkCompletable[randomType][randomID][randomPlayer]=True\n",
    "            randomVerb=\"initialized\"\n",
    "        else:\n",
    "            randomVerb=random.choice([\"progressed\", \"completed\"])\n",
    "            if randomVerb==\"completed\":\n",
    "                checkCompletable[randomType][randomID][randomPlayer]=False\n",
    "        time=times[i]\n",
    "        statement=generator(randomPlayer, randomVerb, randomType,randomID, time)\n",
    "        if randomVerb==\"completed\":\n",
    "            result=copy.deepcopy(template_result_completed_score)\n",
    "            result[\"extensions\"][\"score\"]=random.random()*100\n",
    "            result[\"extensions\"][\"success\"]=random.choice([True,False])\n",
    "            statement[\"result\"]=result\n",
    "        elif randomVerb==\"progressed\":\n",
    "            result=copy.deepcopy(template_result_progress)\n",
    "            progress=random.random()\n",
    "            result[\"extensions\"][\"https://w3id.org/xapi/seriousgames/extensions/progress\"]=progress\n",
    "            result[\"extensions\"][\"progress\"]=progress\n",
    "            statement[\"result\"]=result\n",
    "        statements.append(statement)\n",
    "    if change==None:\n",
    "        return statements\n",
    "    else:\n",
    "        save_generated_data(statements, verbs, types)\n",
    "        end_time=datetime.now()\n",
    "        delta=end_time-start_time\n",
    "        with output:\n",
    "            print(\"End the data generation\")\n",
    "            print(\"Generated in \"+str(delta))\n",
    "            clear_output(wait=True)\n",
    "\n",
    "buttonCompletable=widgets.Button(description='Generate Completable Data', layout = widgets.Layout( width='auto'))\n",
    "buttonCompletable.on_click(generate_completable)\n",
    "\n",
    "global tabCompletable\n",
    "tabCompletable=VBox([\n",
    "    HBox([\n",
    "        checkboxes_verbs_completables.multi_select,\n",
    "        checkboxes_types_completables.multi_select,\n",
    "        vbox_nb_traces_ID_player_completable\n",
    "    ]),\n",
    "    buttonCompletable\n",
    "])"
   ],
   "metadata": {
    "collapsed": false,
    "pycharm": {
     "name": "#%%\n"
    }
   }
  }
 ],
 "metadata": {
  "kernelspec": {
   "display_name": "Python 3",
   "language": "python",
   "name": "python3"
  },
  "language_info": {
   "codemirror_mode": {
    "name": "ipython",
    "version": 2
   },
   "file_extension": ".py",
   "mimetype": "text/x-python",
   "name": "python",
   "nbconvert_exporter": "python",
   "pygments_lexer": "ipython2",
   "version": "2.7.6"
  }
 },
 "nbformat": 4,
 "nbformat_minor": 0
}