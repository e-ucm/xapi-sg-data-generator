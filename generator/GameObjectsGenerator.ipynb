{
 "cells": [
  {
   "cell_type": "code",
   "execution_count": null,
   "outputs": [],
   "source": [
    "%run generator/statementGenerator.ipynb\n",
    "%run generator/IDsPlayerTimeGenerator.ipynb\n",
    "%run generator/TypeChecker.ipynb"
   ],
   "metadata": {
    "collapsed": false,
    "pycharm": {
     "name": "#%%\n"
    }
   }
  },
  {
   "cell_type": "markdown",
   "source": [
    "**Select number of traces, players and IDs** to generate"
   ],
   "metadata": {
    "collapsed": false
   }
  },
  {
   "cell_type": "code",
   "execution_count": null,
   "outputs": [],
   "source": [
    "nbtracesGameObjects = widgets.IntSlider(description=\"Traces\", min=0, value=1, max=10000, continuous_update=False)\n",
    "nbtracesGameObjectstext = widgets.IntText(description=\"\", continuous_update=False)\n",
    "widgets.link((nbtracesGameObjects, 'value'), (nbtracesGameObjectstext, 'value'))\n",
    "tracesGameObjects=VBox([nbtracesGameObjects,nbtracesGameObjectstext])\n",
    "\n",
    "nbplayersGameObjects = widgets.IntSlider(description=\"Players\", min=0, value=1, continuous_update=False)\n",
    "nbplayersGameObjectstext = widgets.IntText(description=\"\", continuous_update=False)\n",
    "widgets.link((nbplayersGameObjects, 'value'), (nbplayersGameObjectstext, 'value'))\n",
    "widgets.link((nbtracesGameObjects, 'value'), (nbplayersGameObjects, 'max'))\n",
    "playersGameObjects=VBox([nbplayersGameObjects,nbplayersGameObjectstext])\n",
    "\n",
    "nbIDsGameObjects = widgets.IntSlider(description=\"IDs\", min=0, value=1, continuous_update=False)\n",
    "nbIDsGameObjectstext = widgets.IntText(description=\"\", continuous_update=False)\n",
    "widgets.link((nbIDsGameObjects, 'value'), (nbIDsGameObjectstext, 'value'))\n",
    "widgets.link((nbtracesGameObjects, 'value'),(nbIDsGameObjects, 'max'))\n",
    "IDsGameObjects=VBox([nbIDsGameObjects,nbIDsGameObjectstext])\n",
    "\n",
    "vbox_nb_traces_ID_player_game_objects=VBox([tracesGameObjects,playersGameObjects, IDsGameObjects])"
   ],
   "metadata": {
    "collapsed": false,
    "pycharm": {
     "name": "#%%\n"
    }
   }
  },
  {
   "cell_type": "markdown",
   "metadata": {
    "collapsed": true,
    "pycharm": {
     "name": "#%% md\n"
    }
   },
   "source": [
    "**GameObjects**"
   ]
  },
  {
   "cell_type": "code",
   "execution_count": null,
   "outputs": [],
   "source": [
    "verbs_gameObjects=[\"interacted\", \"used\"]\n",
    "checkboxes_verbs_gameObjects=GeneratorMultiCheckboxWidget(\"GameObjects verbs\", verbs_gameObjects)\n",
    "\n",
    "types_gameObjects=[\"enemy\", \"npc\", \"item\", \"gameobject\"]\n",
    "checkboxes_types_gameObjects=GeneratorMultiCheckboxWidget(\"GameObjects types\", types_gameObjects)\n",
    "\n",
    "action_types=[\"talk_to\", \"examine\", \"use\", \"drag_to\", \"custom\"]\n",
    "checkboxes_action_types=GeneratorMultiCheckboxWidget(\"ActionTypes\", action_types)\n",
    "\n",
    "template_result_action_type_interact={\n",
    "    \"extensions\": {\n",
    "        \"action_type\": None,\n",
    "    }\n",
    "}\n",
    "\n",
    "def generate_GameObjects(change=None):\n",
    "    start_time=datetime.now()\n",
    "    if change!=None:\n",
    "        with output:\n",
    "            print(\"Starting the data generation\")\n",
    "    verbs=checkboxes_verbs_gameObjects.get_selected_options()\n",
    "    types=checkboxes_types_gameObjects.get_selected_options()\n",
    "    actionTypes=checkboxes_action_types.get_selected_options()\n",
    "    ids=generate_IDs(nbIDsGameObjects.value)\n",
    "    times=generate_times_datas(nbtracesGameObjects.value)\n",
    "    player=generate_players(nbplayersGameObjects.value)\n",
    "    statements=[]\n",
    "    checkTypes={}\n",
    "    checkActionType={}\n",
    "    for i in range(nbtracesGameObjects.value):\n",
    "        randomID=random.choice(ids)\n",
    "        randomPlayer=random.choice(player)\n",
    "        randomVerb=random.choice(verbs)\n",
    "        randomType= checkType(checkTypes,randomID,randomPlayer,types)\n",
    "        time=times[i]\n",
    "        statement=generator(randomPlayer, randomVerb, randomType,randomID, time)\n",
    "        if randomVerb==\"interacted\":\n",
    "            if randomType not in checkActionType.keys():\n",
    "                checkActionType[randomID]=random.choice([True, False])\n",
    "            generateActionType=checkActionType[randomID]\n",
    "            if generateActionType and not len(actionTypes)==0:\n",
    "                actiontype=random.choice(actionTypes)\n",
    "                if actiontype==\"custom\":\n",
    "                    actiontype=str(uuid.uuid4())\n",
    "                    actionTypes.append(actiontype)\n",
    "                result_action_type=copy.deepcopy(template_result_action_type_interact)\n",
    "                result_action_type[\"extensions\"][\"action_type\"]=actiontype\n",
    "                statement[\"result\"]=result_action_type\n",
    "        statements.append(statement)\n",
    "    if change==None:\n",
    "        return statements\n",
    "    else:\n",
    "        save_generated_data(statements, verbs, types)\n",
    "        end_time=datetime.now()\n",
    "        delta=end_time-start_time\n",
    "        with output:\n",
    "            print(\"End the data generation\")\n",
    "            print(\"Generated in \"+str(delta))\n",
    "            clear_output(wait=True)\n",
    "\n",
    "buttonGameObjects=widgets.Button(description='Generate Game Objetcs Data', layout = widgets.Layout( width='auto'))\n",
    "buttonGameObjects.on_click(generate_GameObjects)\n",
    "\n",
    "global tabgameObjects\n",
    "tabgameObjects=VBox([\n",
    "    HBox([\n",
    "        checkboxes_verbs_gameObjects.multi_select,\n",
    "        checkboxes_types_gameObjects.multi_select,\n",
    "        checkboxes_action_types.multi_select\n",
    "    ]),\n",
    "    HBox([\n",
    "        vbox_nb_traces_ID_player_game_objects\n",
    "    ]),\n",
    "    buttonGameObjects\n",
    "])"
   ],
   "metadata": {
    "collapsed": false,
    "pycharm": {
     "name": "#%%\n"
    }
   }
  }
 ],
 "metadata": {
  "kernelspec": {
   "display_name": "Python 3",
   "language": "python",
   "name": "python3"
  },
  "language_info": {
   "codemirror_mode": {
    "name": "ipython",
    "version": 2
   },
   "file_extension": ".py",
   "mimetype": "text/x-python",
   "name": "python",
   "nbconvert_exporter": "python",
   "pygments_lexer": "ipython2",
   "version": "2.7.6"
  }
 },
 "nbformat": 4,
 "nbformat_minor": 0
}