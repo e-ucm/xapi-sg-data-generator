{
 "cells": [
  {
   "cell_type": "markdown",
   "metadata": {
    "collapsed": true,
    "pycharm": {
     "name": "#%% md\n"
    }
   },
   "source": [
    "**Template statements**"
   ]
  },
  {
   "cell_type": "code",
   "execution_count": null,
   "outputs": [],
   "source": [
    "template_statement={\n",
    "    \"actor\":{\n",
    "        \"id\":None\n",
    "    },\n",
    "    \"verb\":{\n",
    "        \"id\":\"https://w3id.org/xapi/seriousgames/verbs/\"\n",
    "    },\n",
    "    \"object\":{\n",
    "        \"id\":None,\n",
    "        \"definition\":{\n",
    "            \"type\":\"https://w3id.org/xapi/seriousgames/activity-types/\"\n",
    "        }\n",
    "    },\n",
    "    \"timestamp\":None\n",
    "}"
   ],
   "metadata": {
    "collapsed": false,
    "pycharm": {
     "name": "#%%\n"
    }
   }
  },
  {
   "cell_type": "markdown",
   "source": [
    "***generator* function** generate the statement with a randomPlayer, a randomVerb, a randomType, a randomID\n",
    " and a time data."
   ],
   "metadata": {
    "collapsed": false
   }
  },
  {
   "cell_type": "code",
   "execution_count": null,
   "outputs": [],
   "source": [
    "def generator(randomPlayer, randomVerb, randomType,randomID, time):\n",
    "    statement = copy.deepcopy(template_statement)\n",
    "    statement[\"actor\"][\"name\"]=str(randomPlayer)\n",
    "    statement[\"actor\"][\"id\"]=str(randomPlayer)\n",
    "    statement[\"verb\"][\"id\"]+=randomVerb\n",
    "    statement[\"object\"][\"definition\"][\"type\"]+=randomType\n",
    "    statement[\"object\"][\"id\"]=str(randomID)\n",
    "    statement[\"timestamp\"]=time.strftime('%Y-%m-%dT%H:%M:%S.%fZ')\n",
    "    return statement"
   ],
   "metadata": {
    "collapsed": false,
    "pycharm": {
     "name": "#%%\n"
    }
   }
  }
 ],
 "metadata": {
  "kernelspec": {
   "display_name": "Python 3",
   "language": "python",
   "name": "python3"
  },
  "language_info": {
   "codemirror_mode": {
    "name": "ipython",
    "version": 2
   },
   "file_extension": ".py",
   "mimetype": "text/x-python",
   "name": "python",
   "nbconvert_exporter": "python",
   "pygments_lexer": "ipython2",
   "version": "2.7.6"
  }
 },
 "nbformat": 4,
 "nbformat_minor": 0
}