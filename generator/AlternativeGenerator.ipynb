{
 "cells": [
  {
   "cell_type": "code",
   "execution_count": null,
   "outputs": [],
   "source": [
    "%run generator/statementGenerator.ipynb\n",
    "%run generator/IDsPlayerTimeGenerator.ipynb\n",
    "%run generator/TypeChecker.ipynb"
   ],
   "metadata": {
    "collapsed": false,
    "pycharm": {
     "name": "#%%\n"
    }
   }
  },
  {
   "cell_type": "markdown",
   "source": [
    "**Select number of traces, players and IDs** to generate"
   ],
   "metadata": {
    "collapsed": false
   }
  },
  {
   "cell_type": "code",
   "execution_count": null,
   "outputs": [],
   "source": [
    "nbtracesAlternative = widgets.IntSlider(description=\"Traces\", min=0, value=1, max=10000, continuous_update=False)\n",
    "nbtracesAlternativetext = widgets.IntText(description=\"\", continuous_update=False)\n",
    "widgets.link((nbtracesAlternative, 'value'), (nbtracesAlternativetext, 'value'))\n",
    "tracesAlternative=VBox([nbtracesAlternative,nbtracesAlternativetext])\n",
    "\n",
    "nbplayersAlternative = widgets.IntSlider(description=\"Players\", min=0, value=1, continuous_update=False)\n",
    "nbplayersAlternativetext = widgets.IntText(description=\"\", continuous_update=False)\n",
    "widgets.link((nbplayersAlternative, 'value'), (nbplayersAlternativetext, 'value'))\n",
    "widgets.link((nbtracesAlternative, 'value'), (nbplayersAlternative, 'max'))\n",
    "playersAlternative=VBox([nbplayersAlternative,nbplayersAlternativetext])\n",
    "\n",
    "nbIDsAlternative = widgets.IntSlider(description=\"IDs\", min=0, value=1, continuous_update=False)\n",
    "nbIDsAlternativetext = widgets.IntText(description=\"\", continuous_update=False)\n",
    "widgets.link((nbIDsAlternative, 'value'), (nbIDsAlternativetext, 'value'))\n",
    "widgets.link((nbtracesAlternative, 'value'),(nbIDsAlternative, 'max'))\n",
    "IDsAlternative=VBox([nbIDsAlternative,nbIDsAlternativetext])\n",
    "\n",
    "vbox_nb_traces_ID_player_alternative=VBox([tracesAlternative,playersAlternative, IDsAlternative])"
   ],
   "metadata": {
    "collapsed": false,
    "pycharm": {
     "name": "#%%\n"
    }
   }
  },
  {
   "cell_type": "markdown",
   "metadata": {
    "collapsed": true,
    "pycharm": {
     "name": "#%% md\n"
    }
   },
   "source": [
    "**Alternatives**"
   ]
  },
  {
   "cell_type": "code",
   "execution_count": null,
   "outputs": [],
   "source": [
    "verbs_alternatives=[\"selected\", \"unlocked\"]\n",
    "checkboxes_verbs_alternatives=GeneratorMultiCheckboxWidget(\"Aternatives verbs\", verbs_alternatives)\n",
    "\n",
    "types_alternatives=[\"question\", \"menu\", \"dialog\", \"path\", \"arena\", \"alternative\"]\n",
    "checkboxes_types_alternatives=GeneratorMultiCheckboxWidget(\"Aternatives types\", types_alternatives)\n",
    "\n",
    "template_result_alternative_response={\n",
    "\t\"response\": None,\n",
    "\t\"success\": None\n",
    "}\n",
    "\n",
    "def generate_alternatives(change=None):\n",
    "    start_time=datetime.now()\n",
    "    if change!=None:\n",
    "        with output:\n",
    "            print(\"Starting the data generation\")\n",
    "    verbs=checkboxes_verbs_alternatives.get_selected_options()\n",
    "    types=checkboxes_types_alternatives.get_selected_options()\n",
    "    ids=generate_IDs(nbIDsAlternative.value)\n",
    "    times=generate_times_datas(nbtracesAlternative.value)\n",
    "    player=generate_players(nbplayersAlternative.value)\n",
    "    statements=[]\n",
    "    checkTypes={}\n",
    "    checkAnswer={}\n",
    "    for i in range(nbtracesAlternative.value):\n",
    "        randomID=random.choice(ids)\n",
    "        randomPlayer=random.choice(player)\n",
    "        randomVerb=random.choice(verbs)\n",
    "        randomType = checkType(checkTypes,randomID,randomPlayer,types)\n",
    "        time=times[i]\n",
    "        statement=generator(randomPlayer, randomVerb, randomType,randomID, time)\n",
    "        if randomType not in checkAnswer.keys():\n",
    "            checkAnswer[randomType]={}\n",
    "        if randomVerb==\"selected\":\n",
    "            if randomID not in checkAnswer[randomType].keys():\n",
    "                checkAnswer[randomType][randomID]=[]\n",
    "                resultTrue=copy.deepcopy(template_result_alternative_response)\n",
    "                resultTrue[\"response\"]=str(uuid.uuid4())\n",
    "                resultTrue[\"success\"]=\"True\"\n",
    "                checkAnswer[randomType][randomID].append(resultTrue)\n",
    "                checkAnswer[randomType][randomID].append(\"custom\")\n",
    "            result=random.choice(checkAnswer[randomType][randomID])\n",
    "            if result==\"custom\":\n",
    "                result=copy.deepcopy(template_result_alternative_response)\n",
    "                result[\"response\"]=str(uuid.uuid4())\n",
    "                result[\"success\"]=\"False\"\n",
    "                checkAnswer[randomType][randomID].append(result)\n",
    "            if randomType in [\"alternative\",\"question\"]:\n",
    "                statement[\"result\"]=result\n",
    "            else: #menu dialog path arena\n",
    "                statement[\"result\"]={\"response\":result[\"response\"]}\n",
    "        statements.append(statement)\n",
    "    if change is None :\n",
    "        return statements\n",
    "    else:\n",
    "        save_generated_data(statements, verbs, types)\n",
    "        end_time=datetime.now()\n",
    "        delta=end_time-start_time\n",
    "        with output:\n",
    "            print(\"End the data generation\")\n",
    "            print(\"Generated in \"+str(delta))\n",
    "            clear_output(wait=True)\n",
    "\n",
    "buttonAlternative=widgets.Button(description='Generate Alternative Data', layout = widgets.Layout( width='auto'))\n",
    "buttonAlternative.on_click(generate_alternatives)\n",
    "\n",
    "global tabAlternatives\n",
    "tabAlternatives=VBox([\n",
    "    HBox([\n",
    "        checkboxes_verbs_alternatives.multi_select,\n",
    "        checkboxes_types_alternatives.multi_select,\n",
    "        vbox_nb_traces_ID_player_alternative\n",
    "    ]),\n",
    "    buttonAlternative\n",
    "])"
   ],
   "metadata": {
    "collapsed": false,
    "pycharm": {
     "name": "#%%\n"
    }
   }
  }
 ],
 "metadata": {
  "kernelspec": {
   "name": "pycharm-831db6a3",
   "language": "python",
   "display_name": "PyCharm (xapi-sg-data-generator)"
  },
  "language_info": {
   "codemirror_mode": {
    "name": "ipython",
    "version": 2
   },
   "file_extension": ".py",
   "mimetype": "text/x-python",
   "name": "python",
   "nbconvert_exporter": "python",
   "pygments_lexer": "ipython2",
   "version": "2.7.6"
  }
 },
 "nbformat": 4,
 "nbformat_minor": 0
}