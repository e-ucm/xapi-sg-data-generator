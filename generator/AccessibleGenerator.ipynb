{
 "cells": [
  {
   "cell_type": "code",
   "execution_count": null,
   "outputs": [],
   "source": [
    "%run generator/statementGenerator.ipynb\n",
    "%run generator/IDsPlayerTimeGenerator.ipynb\n",
    "%run generator/TypeChecker.ipynb"
   ],
   "metadata": {
    "collapsed": false,
    "pycharm": {
     "name": "#%%\n"
    }
   }
  },
  {
   "cell_type": "markdown",
   "source": [
    "**Select number of traces, players and IDs** to generate"
   ],
   "metadata": {
    "collapsed": false
   }
  },
  {
   "cell_type": "code",
   "execution_count": null,
   "outputs": [],
   "source": [
    "nbtracesAccessible = widgets.IntSlider(description=\"Traces\", min=0, value=1, max=10000, continuous_update=False)\n",
    "nbtracesAccessibletext = widgets.IntText(description=\"\", continuous_update=False)\n",
    "widgets.link((nbtracesAccessible, 'value'), (nbtracesAccessibletext, 'value'))\n",
    "tracesAccessible=VBox([nbtracesAccessible,nbtracesAccessibletext])\n",
    "\n",
    "nbplayersAccessible = widgets.IntSlider(description=\"Players\", min=0, value=1, continuous_update=False)\n",
    "nbplayersAccessibletext = widgets.IntText(description=\"\", continuous_update=False)\n",
    "widgets.link((nbplayersAccessible, 'value'), (nbplayersAccessibletext, 'value'))\n",
    "widgets.link((nbtracesAccessible, 'value'), (nbplayersAccessible, 'max'))\n",
    "playersAccessible=VBox([nbplayersAccessible,nbplayersAccessibletext])\n",
    "\n",
    "nbIDsAccessible = widgets.IntSlider(description=\"IDs\", min=0, value=1, continuous_update=False)\n",
    "nbIDsAccessibletext = widgets.IntText(description=\"\", continuous_update=False)\n",
    "widgets.link((nbIDsAccessible, 'value'), (nbIDsAccessibletext, 'value'))\n",
    "widgets.link((nbtracesAccessible, 'value'),(nbIDsAccessible, 'max'))\n",
    "IDsAccessible=VBox([nbIDsAccessible,nbIDsAccessibletext])\n",
    "\n",
    "vbox_nb_traces_ID_player_accessible=VBox([tracesAccessible,playersAccessible, IDsAccessible])\n"
   ],
   "metadata": {
    "collapsed": false,
    "pycharm": {
     "name": "#%%\n"
    }
   }
  },
  {
   "cell_type": "markdown",
   "metadata": {
    "collapsed": true,
    "pycharm": {
     "name": "#%% md\n"
    }
   },
   "source": [
    "**Accessibles**"
   ]
  },
  {
   "cell_type": "code",
   "execution_count": null,
   "outputs": [],
   "source": [
    "verbs_accessibles=[\"accessed\", \"skipped\"]\n",
    "checkboxes_verbs_accessibles=GeneratorMultiCheckboxWidget(\"Accessibles verbs\", verbs_accessibles)\n",
    "\n",
    "types_accessibles=[\"screen\", \"area\", \"zone\", \"cutscene\", \"accessible\"]\n",
    "checkboxes_types_accessibles=GeneratorMultiCheckboxWidget(\"Accessibles types\", types_accessibles)\n",
    "\n",
    "def generate_accessibles(change=None):\n",
    "    start_time=datetime.now()\n",
    "    if change!=None:\n",
    "        with output:\n",
    "            print(\"Starting the data generation\")\n",
    "    verbs=checkboxes_verbs_accessibles.get_selected_options()\n",
    "    types=checkboxes_types_accessibles.get_selected_options()\n",
    "    ids=generate_IDs(nbIDsAccessible.value)\n",
    "    times=generate_times_datas(nbtracesAccessible.value)\n",
    "    player=generate_players(nbplayersAccessible.value)\n",
    "    statements=[]\n",
    "    checkTypes={}\n",
    "    for i in range(nbtracesAccessible.value):\n",
    "        randomID=random.choice(ids)\n",
    "        randomPlayer=random.choice(player)\n",
    "        randomType = checkType(checkTypes,randomID,randomPlayer,types)\n",
    "        if checkTypes[randomType][randomID][randomPlayer]==None:\n",
    "            randomVerb=\"accessed\"\n",
    "            checkTypes[randomType][randomID][randomPlayer]=True\n",
    "        else:\n",
    "            randomVerb=\"skipped\"\n",
    "            checkTypes[randomType][randomID][randomPlayer]=None\n",
    "        time=times[i]\n",
    "        statement=generator(randomPlayer, randomVerb, randomType,randomID, time)\n",
    "        statements.append(statement)\n",
    "    if change==None:\n",
    "        return statements\n",
    "    else:\n",
    "        save_generated_data(statements, verbs, types)\n",
    "        end_time=datetime.now()\n",
    "        delta=end_time-start_time\n",
    "        with output:\n",
    "            print(\"End the data generation\")\n",
    "            print(\"Generated in \"+str(delta))\n",
    "            clear_output(wait=True)\n",
    "\n",
    "buttonAccessible=widgets.Button(description='Generate Accessible Data', layout = widgets.Layout( width='auto'))\n",
    "buttonAccessible.on_click(generate_accessibles)\n",
    "\n",
    "global tabAccessible\n",
    "tabAccessible=VBox([\n",
    "    HBox([\n",
    "        checkboxes_verbs_accessibles.multi_select,\n",
    "        checkboxes_types_accessibles.multi_select,\n",
    "        vbox_nb_traces_ID_player_accessible\n",
    "    ]),\n",
    "    buttonAccessible\n",
    "])"
   ],
   "metadata": {
    "collapsed": false,
    "pycharm": {
     "name": "#%%\n"
    }
   }
  }
 ],
 "metadata": {
  "kernelspec": {
   "display_name": "Python 3",
   "language": "python",
   "name": "python3"
  },
  "language_info": {
   "codemirror_mode": {
    "name": "ipython",
    "version": 2
   },
   "file_extension": ".py",
   "mimetype": "text/x-python",
   "name": "python",
   "nbconvert_exporter": "python",
   "pygments_lexer": "ipython2",
   "version": "2.7.6"
  }
 },
 "nbformat": 4,
 "nbformat_minor": 0
}