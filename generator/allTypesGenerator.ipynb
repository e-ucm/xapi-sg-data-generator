{
 "cells": [
  {
   "cell_type": "code",
   "execution_count": null,
   "metadata": {
    "collapsed": true,
    "pycharm": {
     "name": "#%%i\n"
    }
   },
   "outputs": [],
   "source": [
    "tems_layout = widgets.Layout( width='auto') # override the default width of the button to 'auto' to let the button grow\n",
    "\n",
    "box_layout = Layout(display='flex',\n",
    "                    flex_flow='column',\n",
    "                    align_items='stretch',\n",
    "                    border='solid',\n",
    "                    width='50%')\n",
    "%run generator/multipleSelectorCheckboxesWidget.ipynb\n",
    "%run generator/AccessibleGenerator.ipynb\n",
    "%run generator/AlternativeGenerator.ipynb\n",
    "%run generator/CompletableGenerator.ipynb\n",
    "%run generator/GameObjectsGenerator.ipynb\n",
    "%run generator/saveData/saveFunctions.ipynb\n",
    "\n",
    "def generateAllTypes(change):\n",
    "    with output:\n",
    "        print(\"Starting the data generation\")\n",
    "    start_time=datetime.now()\n",
    "    accessibleStatements = generate_accessibles()\n",
    "    indexAccessible = 0\n",
    "    alternativeStatements = generate_alternatives()\n",
    "    indexAlternative = 0\n",
    "    completableStatements = generate_completable()\n",
    "    indexCompletable = 0\n",
    "    gameObjectsStatements = generate_GameObjects()\n",
    "    indexGameObjects = 0\n",
    "    nbTotalTrace = len(accessibleStatements)\\\n",
    "                 +len(alternativeStatements)\\\n",
    "                 +len(completableStatements)\\\n",
    "                 +len(gameObjectsStatements)\n",
    "    listType=[\"accessible\",\"alternative\",\"completable\",\"gameObjects\"]\n",
    "    times=generate_times_datas(nbTotalTrace)\n",
    "    allTypesStatements=[]\n",
    "    for i in range(nbTotalTrace):\n",
    "        randomType=random.choice(listType)\n",
    "        if randomType==\"accessible\":\n",
    "            statement=accessibleStatements[indexAccessible]\n",
    "            indexAccessible+=1\n",
    "            if indexAccessible==len(accessibleStatements):\n",
    "                listType.remove(\"accessible\")\n",
    "        if randomType==\"alternative\":\n",
    "            statement=alternativeStatements[indexAlternative]\n",
    "            indexAlternative+=1\n",
    "            if indexAlternative==len(alternativeStatements):\n",
    "                listType.remove(\"alternative\")\n",
    "        if randomType==\"completable\":\n",
    "            statement=completableStatements[indexCompletable]\n",
    "            indexCompletable+=1\n",
    "            if indexCompletable==len(completableStatements):\n",
    "                listType.remove(\"completable\")\n",
    "        if randomType==\"gameObjects\":\n",
    "            statement=gameObjectsStatements[indexGameObjects]\n",
    "            indexGameObjects+=1\n",
    "            if indexGameObjects==len(gameObjectsStatements):\n",
    "                listType.remove(\"gameObjects\")\n",
    "        statement[\"timestamp\"]=times[i].strftime('%Y-%m-%dT%H:%M:%S.%fZ')\n",
    "        allTypesStatements.append(statement)\n",
    "    save_generated_data(allTypesStatements, [], [\"accessible\",\"alternative\",\"completable\",\"gameObjects\"])\n",
    "    end_time=datetime.now()\n",
    "    delta=end_time-start_time\n",
    "    with output:\n",
    "        print(\"End the data generation\")\n",
    "        print(\"Generated in \"+str(delta))\n",
    "        clear_output(wait=True)\n",
    "\n",
    "global buttonGenerateAllTypes\n",
    "buttonGenerateAllTypes=widgets.Button(description='Generate Data', layout=widgets.Layout(width='auto'))\n",
    "buttonGenerateAllTypes.on_click(generateAllTypes)"
   ]
  }
 ],
 "metadata": {
  "kernelspec": {
   "display_name": "Python 3",
   "language": "python",
   "name": "python3"
  },
  "language_info": {
   "codemirror_mode": {
    "name": "ipython",
    "version": 2
   },
   "file_extension": ".py",
   "mimetype": "text/x-python",
   "name": "python",
   "nbconvert_exporter": "python",
   "pygments_lexer": "ipython2",
   "version": "2.7.6"
  }
 },
 "nbformat": 4,
 "nbformat_minor": 0
}