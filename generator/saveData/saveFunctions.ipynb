{
 "cells": [
  {
   "cell_type": "code",
   "execution_count": null,
   "outputs": [],
   "source": [
    "%run generator/saveData/selectFileWidget.ipynb"
   ],
   "metadata": {
    "collapsed": false,
    "pycharm": {
     "name": "#%%\n"
    }
   }
  },
  {
   "cell_type": "markdown",
   "source": [
    "**Save generator data**"
   ],
   "metadata": {
    "collapsed": false
   }
  },
  {
   "cell_type": "code",
   "execution_count": null,
   "outputs": [],
   "source": [
    "global filebrowser\n",
    "filebrowser = FileBrowser()\n",
    "\n",
    "def save_generated_data(statement_dict, verbs, types):\n",
    "    start_time = datetime.now()\n",
    "    strtime=start_time.strftime(\"%Y-%m-%d-%H-%M-%S\")\n",
    "    filename=\"generated_\"\n",
    "    for v in verbs:\n",
    "        filename+=v+\"_\"\n",
    "    for t in types:\n",
    "        filename+=t+\"_\"\n",
    "    filename+=str(len(statement_dict))+\"statements_\"+strtime+\".json\"\n",
    "    path=os.path.join(filebrowser.path,filename)\n",
    "    with open(path, 'w', encoding='UTF-8') as file:\n",
    "        file.write(json.dumps(statement_dict, indent=2))\n",
    "    end_time = datetime.now()"
   ],
   "metadata": {
    "collapsed": false,
    "pycharm": {
     "name": "#%%\n"
    }
   }
  }
 ],
 "metadata": {
  "kernelspec": {
   "display_name": "Python 3",
   "language": "python",
   "name": "python3"
  },
  "language_info": {
   "codemirror_mode": {
    "name": "ipython",
    "version": 2
   },
   "file_extension": ".py",
   "mimetype": "text/x-python",
   "name": "python",
   "nbconvert_exporter": "python",
   "pygments_lexer": "ipython2",
   "version": "2.7.6"
  }
 },
 "nbformat": 4,
 "nbformat_minor": 0
}