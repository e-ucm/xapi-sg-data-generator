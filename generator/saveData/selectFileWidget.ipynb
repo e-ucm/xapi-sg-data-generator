{
 "cells": [
  {
   "cell_type": "markdown",
   "source": [
    "Adapted from : https://gist.github.com/DrDub/6efba6e522302e43d055\n",
    "\n",
    "# example usage:\n",
    "   f = FileBrowser()\n",
    "\n",
    "   f.widget()\n",
    "\n",
    "   <interact with widget, select a path>\n",
    "\n",
    "# in a separate cell:\n",
    "   f.path # returns the selected path"
   ],
   "metadata": {
    "collapsed": false,
    "pycharm": {
     "name": "#%% md\n"
    }
   }
  },
  {
   "cell_type": "code",
   "execution_count": 1,
   "outputs": [],
   "source": [],
   "metadata": {
    "collapsed": false,
    "pycharm": {
     "name": "#%%\n"
    }
   }
  },
  {
   "cell_type": "markdown",
   "source": [
    "Adapted from : https://gist.github.com/DrDub/6efba6e522302e43d055\n",
    "\n",
    "# example usage:\n",
    "   f = FileBrowser()\n",
    "\n",
    "   f.widget()\n",
    "\n",
    "   <interact with widget, select a path>\n",
    "\n",
    "# in a separate cell:\n",
    "   f.path # returns the selected path"
   ],
   "metadata": {
    "collapsed": false
   }
  },
  {
   "cell_type": "code",
   "execution_count": null,
   "outputs": [],
   "source": [
    "import os\n",
    "\n",
    "class FileBrowser(object):\n",
    "    def __init__(self):\n",
    "        self.path = os.getcwd()\n",
    "        self._update_files()\n",
    "        self.layoutButtons = widgets.Layout(width='auto')\n",
    "\n",
    "    def _update_files(self):\n",
    "        self.dirs = list()\n",
    "        for f in os.listdir(self.path):\n",
    "            ff = os.path.join(self.path, f)\n",
    "            if os.path.isdir(ff):\n",
    "                self.dirs.append(f)\n",
    "\n",
    "    def widget(self):\n",
    "        box = widgets.VBox()\n",
    "        self._update(box)\n",
    "        return box\n",
    "\n",
    "    def _update(self, box):\n",
    "        def on_click(b):\n",
    "            if b.description == '..':\n",
    "                self.path = os.path.split(self.path)[0]\n",
    "            else:\n",
    "                self.path = os.path.join(self.path, b.description)\n",
    "            self._update_files()\n",
    "            self._update(box)\n",
    "\n",
    "        buttons = []\n",
    "        button = widgets.Button(description='..', background_color='#d0d0ff', layout=self.layoutButtons)\n",
    "        button.on_click(on_click)\n",
    "        buttons.append(button)\n",
    "        if os.path.isdir(self.path):\n",
    "            for f in self.dirs:\n",
    "                button = widgets.Button(description=f, background_color='#d0d0ff', layout=self.layoutButtons)\n",
    "                button.on_click(on_click)\n",
    "                buttons.append(button)\n",
    "        box.children = tuple([widgets.HTML(\"<h4>%s</h4>\" % (self.path,))] + buttons)"
   ],
   "metadata": {
    "collapsed": false,
    "pycharm": {
     "name": "#%%\n"
    }
   }
  }
 ],
 "metadata": {
  "kernelspec": {
   "display_name": "Python 3",
   "language": "python",
   "name": "python3"
  },
  "language_info": {
   "codemirror_mode": {
    "name": "ipython",
    "version": 2
   },
   "file_extension": ".py",
   "mimetype": "text/x-python",
   "name": "python",
   "nbconvert_exporter": "python",
   "pygments_lexer": "ipython2",
   "version": "2.7.6"
  }
 },
 "nbformat": 4,
 "nbformat_minor": 0
}