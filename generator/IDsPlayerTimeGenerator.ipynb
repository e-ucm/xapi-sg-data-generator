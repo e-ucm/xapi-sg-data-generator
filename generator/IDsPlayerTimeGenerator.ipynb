{
 "cells": [
  {
   "cell_type": "markdown",
   "source": [
    "**Generator** of players, IDs and times datas"
   ],
   "metadata": {
    "collapsed": false
   }
  },
  {
   "cell_type": "code",
   "execution_count": null,
   "outputs": [],
   "source": [
    "def generate_players(nbPlayer):\n",
    "    tabplayers=[]\n",
    "    for n in range(0, nbPlayer):\n",
    "        tabplayers.append(uuid.uuid4())\n",
    "    return tabplayers\n",
    "\n",
    "def generate_IDs(nbID):\n",
    "    tabIDs=[]\n",
    "    for n in range(0, nbID):\n",
    "        tabIDs.append(uuid.uuid4())\n",
    "    return tabIDs\n",
    "\n",
    "def generate_times_datas(nbTrace):\n",
    "    times=[]\n",
    "    time = datetime.now()\n",
    "    for n in range(0, nbTrace):\n",
    "        times.append(time)\n",
    "        timeToSleep = random.random()*100\n",
    "        dtime=timedelta(seconds=timeToSleep)\n",
    "        time+=dtime\n",
    "    return times"
   ],
   "metadata": {
    "collapsed": false,
    "pycharm": {
     "name": "#%%\n"
    }
   }
  }
 ],
 "metadata": {
  "kernelspec": {
   "display_name": "Python 3",
   "language": "python",
   "name": "python3"
  },
  "language_info": {
   "codemirror_mode": {
    "name": "ipython",
    "version": 2
   },
   "file_extension": ".py",
   "mimetype": "text/x-python",
   "name": "python",
   "nbconvert_exporter": "python",
   "pygments_lexer": "ipython2",
   "version": "2.7.6"
  }
 },
 "nbformat": 4,
 "nbformat_minor": 0
}