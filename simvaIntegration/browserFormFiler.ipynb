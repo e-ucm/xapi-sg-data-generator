{
 "cells": [
  {
   "cell_type": "code",
   "execution_count": 1,
   "outputs": [],
   "source": [
    "import os\n",
    "from pyvirtualdisplay import Display\n",
    "from selenium import webdriver\n",
    "import time\n",
    "\n",
    "#https://pypi.org/project/selenium/\n",
    "def get_browser(url):\n",
    "    try:\n",
    "        #https://sites.google.com/a/chromium.org/chromedriver/downloads\n",
    "        web = webdriver.Chrome(os.path.join(os.getcwd(),\"chromedriver_win32\\mschromedriver.exe\"))\n",
    "        web.get(url)\n",
    "        return web\n",
    "    except (ValueError,Exception):\n",
    "        try:\n",
    "            #https://developer.microsoft.com/en-us/microsoft-edge/tools/webdriver/\n",
    "            web=webdriver.Edge(os.path.join(os.getcwd(),\"edgedriver_win64\\msedgedriver.exe\"))\n",
    "            web.get(url)\n",
    "            return web\n",
    "        except (ValueError,Exception):\n",
    "            try:\n",
    "                #https://github.com/mozilla/geckodriver/releases/tag/v0.27.0\n",
    "                web=webdriver.Firefox(os.path.join(os.getcwd(),\"firefoxdriver_win64\\geckodriver.exe\"))\n",
    "                web.get(url)\n",
    "                return web\n",
    "            except (ValueError,Exception):\n",
    "                #https://webkit.org/blog/6900/webdriver-support-in-safari-10/\n",
    "                web=webdriver.Safari()\n",
    "                web.get(url)\n",
    "                return web\n",
    "\n",
    "def fill_form(url, username):\n",
    "    #display = Display(visible=0, size=(800, 600))\n",
    "    #display.start()\n",
    "    web=get_browser(url)\n",
    "    time.sleep(2)\n",
    "\n",
    "    user = web.find_element_by_xpath('//*[@id=\"username\"]')\n",
    "    user.send_keys(username)\n",
    "\n",
    "    submit = web.find_element_by_xpath('//*[@id=\"kc-login\"]')\n",
    "    submit.click()\n",
    "    url=web.current_url\n",
    "    print(url)\n",
    "    web.quit()\n",
    "    #display.close()\n",
    "    return url"
   ],
   "metadata": {
    "collapsed": false,
    "pycharm": {
     "name": "#%%\n"
    }
   }
  }
 ],
 "metadata": {
  "kernelspec": {
   "name": "pycharm-831db6a3",
   "language": "python",
   "display_name": "PyCharm (xapi-sg-data-generator)"
  },
  "language_info": {
   "codemirror_mode": {
    "name": "ipython",
    "version": 2
   },
   "file_extension": ".py",
   "mimetype": "text/x-python",
   "name": "python",
   "nbconvert_exporter": "python",
   "pygments_lexer": "ipython2",
   "version": "2.7.6"
  }
 },
 "nbformat": 4,
 "nbformat_minor": 0
}