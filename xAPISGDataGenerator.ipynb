{
 "cells": [
  {
   "cell_type": "markdown",
   "metadata": {},
   "source": [
    "# xAPI-SG Data Generator"
   ]
  },
  {
   "cell_type": "markdown",
   "metadata": {},
   "source": [
    "### Generator of traces xAPI data following the Experience API for Serious Games Profile (xAPI-SG)\n",
    "\n",
    "**xAPI-SG main reference:**\n",
    "*Applying standards to systematize learning analytics in serious games.\n",
    "Ángel Serrano-Laguna, Iván Martínez-Ortiz, Jason Haag, Damon Regan, Andy Johnson, Baltasar Fernández-Manjón\n",
    "Computer Standards & Interfaces 50 (2017) 116–123, http://dx.doi.org/10.1016/j.csi.2016.09.014*\n",
    "\n",
    "Further info on GitHub wiki page: https://github.com/e-ucm/rage-analytics/wiki/xAPI-SG-Profile"
   ]
  },
  {
   "cell_type": "markdown",
   "metadata": {},
   "source": [
    "The following code:\n",
    "- expect you select a verb, a type_object, number of players, numbers of IDs, numbers of traces to generate\n",
    "- generate a file with a list of xAPI-SG statements"
   ]
  },
  {
   "cell_type": "code",
   "execution_count": null,
   "metadata": {},
   "outputs": [],
   "source": [
    "import json\n",
    "from datetime import datetime, timedelta\n",
    "import copy\n",
    "import math\n",
    "from ipywidgets import interact, interactive, fixed, HBox, Layout,VBox\n",
    "import ipywidgets as widgets\n",
    "from IPython.display import display, clear_output\n",
    "import pprint\n",
    "import random\n",
    "import uuid\n",
    "import os"
   ]
  },
  {
   "cell_type": "markdown",
   "metadata": {},
   "source": [
    "**User interface**"
   ]
  },
  {
   "cell_type": "code",
   "execution_count": null,
   "metadata": {
    "pycharm": {
     "name": "#%%\n"
    }
   },
   "outputs": [],
   "source": [
    "%run generator/allTypesGenerator.ipynb\n",
    "\n",
    "typesTitles=[\"Completables\", \"Accessibles\", \"Alternatives\", \"GameObjects\"]\n",
    "\n",
    "tabs=widgets.Tab([tabCompletable, tabAccessible, tabAlternatives, tabgameObjects])\n",
    "for i in range(len(typesTitles)):\n",
    "    tabs.set_title(i, typesTitles[i])\n",
    "    i+=1\n",
    "\n",
    "output=widgets.Output()\n",
    "def clearoutput(change):\n",
    "    with output:\n",
    "        clear_output(wait=False)\n",
    "tabs.observe(clearoutput, 'selected_index')\n",
    "\n",
    "header=widgets.HTML(\"<h1>xAPI-SG Generatorr</h1>\"\n",
    "                    \"<h2>Please select verb(s), type_object(s), number of players, numbers of IDs and numbers of traces to generate</h2>\")\n",
    "footer=widgets.HTML(\"<h4>xAPI-SG Generator, by eUCM research team</h4>\")\n",
    "app=VBox([header,\n",
    "          tabs,\n",
    "          widgets.HTML(\"<h3>Generate traces of all types directly into the same JSON file</h3>\"),\n",
    "          buttonGenerateAllTypes,\n",
    "          widgets.HTML(\"<h3>Select the folder to save the data in.</h3>\"),\n",
    "          filebrowser.widget(),\n",
    "          output,\n",
    "          footer])\n",
    "app"
   ]
  },
  {
   "cell_type": "code",
   "execution_count": null,
   "metadata": {
    "pycharm": {
     "name": "#%%\n"
    }
   },
   "outputs": [],
   "source": []
  }
 ],
 "metadata": {
  "kernelspec": {
   "display_name": "Python 3",
   "language": "python",
   "name": "python3"
  },
  "language_info": {
   "codemirror_mode": {
    "name": "ipython",
    "version": 3
   },
   "file_extension": ".py",
   "mimetype": "text/x-python",
   "name": "python",
   "nbconvert_exporter": "python",
   "pygments_lexer": "ipython3",
   "version": "3.6.10"
  }
 },
 "nbformat": 4,
 "nbformat_minor": 1
}