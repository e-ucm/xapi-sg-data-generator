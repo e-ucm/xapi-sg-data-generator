{
 "cells": [
  {
   "cell_type": "markdown",
   "metadata": {},
   "source": [
    "# xAPI-SG Data Generator"
   ]
  },
  {
   "cell_type": "markdown",
   "metadata": {},
   "source": [
    "### Generator of traces xAPI data following the Experience API for Serious Games Profile (xAPI-SG)\n",
    "\n",
    "**xAPI-SG main reference:**\n",
    "*Applying standards to systematize learning analytics in serious games.\n",
    "Ángel Serrano-Laguna, Iván Martínez-Ortiz, Jason Haag, Damon Regan, Andy Johnson, Baltasar Fernández-Manjón\n",
    "Computer Standards & Interfaces 50 (2017) 116–123, http://dx.doi.org/10.1016/j.csi.2016.09.014*\n",
    "\n",
    "Further info on GitHub wiki page: https://github.com/e-ucm/rage-analytics/wiki/xAPI-SG-Profile"
   ]
  },
  {
   "cell_type": "markdown",
   "metadata": {},
   "source": [
    "The following code:\n",
    "- expect you select a verb, a type_object, number of players, numbers of IDs, numbers of traces to generate\n",
    "- generate a file with a list of xAPI-SG statements"
   ]
  },
  {
   "cell_type": "code",
   "execution_count": 1,
   "metadata": {},
   "outputs": [],
   "source": [
    "import json\n",
    "from datetime import datetime, timedelta\n",
    "import copy\n",
    "import math\n",
    "from ipywidgets import interact, interactive, fixed, HBox, Layout,VBox\n",
    "import ipywidgets as widgets\n",
    "from IPython.display import display, clear_output\n",
    "import pprint\n",
    "import random\n",
    "import uuid\n",
    "import os"
   ]
  },
  {
   "cell_type": "markdown",
   "metadata": {},
   "source": [
    "**Save generator data**\n"
   ]
  },
  {
   "cell_type": "code",
   "execution_count": 2,
   "metadata": {
    "pycharm": {
     "name": "#%%\n"
    }
   },
   "outputs": [],
   "source": [
    "output=widgets.Output()\n",
    "\n",
    "def save_generated_data(statement_dict, verbs, types):\n",
    "    start_time = datetime.now()\n",
    "    strtime=start_time.strftime(\"%Y-%m-%d-%H-%M-%S\")\n",
    "    filename=\"generated_\"\n",
    "    for v in verbs:\n",
    "        filename+=v+\"_\"\n",
    "    for t in types:\n",
    "        filename+=t+\"_\"\n",
    "    filename+=str(nbtraces.value)+\"statements_\"+strtime+\".json\"\n",
    "    path=os.path.join(os.getcwd(),filename)\n",
    "    with open(path, 'w', encoding='UTF-8') as file:\n",
    "        file.write(json.dumps(statement_dict, indent=2))\n",
    "    end_time = datetime.now()"
   ]
  },
  {
   "cell_type": "markdown",
   "metadata": {},
   "source": [
    "**Template statements**"
   ]
  },
  {
   "cell_type": "code",
   "execution_count": 3,
   "metadata": {
    "pycharm": {
     "name": "#%%\n"
    }
   },
   "outputs": [],
   "source": [
    "template_statement={\n",
    "    \"actor\":{\n",
    "        \"id\":None\n",
    "    },\n",
    "    \"verb\":{\n",
    "        \"id\":\"https://w3id.org/xapi/seriousgames/verbs/\"\n",
    "    },\n",
    "    \"object\":{\n",
    "        \"id\":None,\n",
    "        \"definition\":{\n",
    "            \"type\":\"https://w3id.org/xapi/seriousgames/activity-types/\"\n",
    "        }\n",
    "    },\n",
    "    \"timestamp\":None\n",
    "}\n",
    "\n",
    "def generator(randomPlayer, randomVerb, randomType,randomID, time):\n",
    "    statement = copy.deepcopy(template_statement)\n",
    "    statement[\"actor\"][\"name\"]=str(randomPlayer)\n",
    "    statement[\"actor\"][\"id\"]=str(randomPlayer)\n",
    "    statement[\"verb\"][\"id\"]+=randomVerb\n",
    "    statement[\"object\"][\"definition\"][\"type\"]+=randomType\n",
    "    statement[\"object\"][\"id\"]=str(randomID)\n",
    "    statement[\"timestamp\"]=time.strftime('%Y-%m-%dT%H:%M:%S.%fZ')\n",
    "    return statement"
   ]
  },
  {
   "cell_type": "markdown",
   "metadata": {},
   "source": [
    "**Select number of traces, players and IDs** to generate"
   ]
  },
  {
   "cell_type": "code",
   "execution_count": 4,
   "metadata": {
    "pycharm": {
     "name": "#%%\n"
    }
   },
   "outputs": [],
   "source": [
    "nbtraces = widgets.IntSlider(description=\"Nb traces\", min=1, max=10000, continuous_update=False)\n",
    "nbtracestext = widgets.IntText(description=\"\", continuous_update=False)\n",
    "widgets.link((nbtraces, 'value'), (nbtracestext, 'value'))\n",
    "traces=VBox([nbtraces,nbtracestext])\n",
    "\n",
    "nbplayers = widgets.IntSlider(description=\"Nb players\", min=1, continuous_update=False)\n",
    "nbplayerstext = widgets.IntText(description=\"\", continuous_update=False)\n",
    "widgets.link((nbplayers, 'value'), (nbplayerstext, 'value'))\n",
    "widgets.link((nbtraces, 'value'), (nbplayers, 'max'))\n",
    "players=VBox([nbplayers,nbplayerstext])\n",
    "\n",
    "nbIDs = widgets.IntSlider(description=\"Nb IDs\", min=1, continuous_update=False)\n",
    "nbIDstext = widgets.IntText(description=\"\", continuous_update=False)\n",
    "widgets.link((nbIDs, 'value'), (nbIDstext, 'value'))\n",
    "widgets.link((nbtraces, 'value'),(nbIDs, 'max'))\n",
    "IDs=VBox([nbIDs,nbIDstext])\n",
    "vbox_nb_traces_ID_player=VBox([traces,players, IDs])"
   ]
  },
  {
   "cell_type": "markdown",
   "metadata": {},
   "source": [
    "**Generator** of players, IDs and times datas"
   ]
  },
  {
   "cell_type": "code",
   "execution_count": 5,
   "metadata": {
    "pycharm": {
     "name": "#%%\n"
    }
   },
   "outputs": [],
   "source": [
    "def generate_players():\n",
    "    tabplayers=[]\n",
    "    for n in range(0, nbplayers.value):\n",
    "        tabplayers.append(uuid.uuid4())\n",
    "    return tabplayers\n",
    "\n",
    "#print(generate_players())\n",
    "\n",
    "def generate_IDs():\n",
    "    tabIDs=[]\n",
    "    for n in range(0, nbIDs.value):\n",
    "        tabIDs.append(uuid.uuid4())\n",
    "    return tabIDs\n",
    "\n",
    "#print(generate_IDs())\n",
    "\n",
    "def generate_times_datas():\n",
    "    times=[]\n",
    "    time = datetime.now()\n",
    "    for n in range(0, nbtraces.value):\n",
    "        times.append(time)\n",
    "        timeToSleep = random.random()*100\n",
    "        dtime=timedelta(seconds=timeToSleep)\n",
    "        time+=dtime\n",
    "    return times\n",
    "\n",
    "#print(generate_times_datas())"
   ]
  },
  {
   "cell_type": "markdown",
   "metadata": {},
   "source": [
    "**Multi checkboxes selector** for verbs and types"
   ]
  },
  {
   "cell_type": "code",
   "execution_count": 6,
   "metadata": {
    "pycharm": {
     "name": "#%%\n"
    }
   },
   "outputs": [],
   "source": [
    "%run multipleSelectorCheckboxesWidget.ipynb\n",
    "class GeneratorMultiCheckboxWidget(MultiCheckboxWidget):\n",
    "    def update(self):\n",
    "        pass"
   ]
  },
  {
   "cell_type": "markdown",
   "metadata": {
    "pycharm": {
     "name": "#%% md\n"
    }
   },
   "source": [
    "**Type Checker**"
   ]
  },
  {
   "cell_type": "code",
   "execution_count": 7,
   "metadata": {
    "pycharm": {
     "name": "#%%\n"
    }
   },
   "outputs": [],
   "source": [
    "def checkType(checkType, randomID, randomPlayer, types):\n",
    "    randomType=None\n",
    "    for type in checkType.keys():\n",
    "            if randomID in checkType[type].keys():\n",
    "                randomType=type\n",
    "    if randomType==None:\n",
    "            randomType=random.choice(types)\n",
    "            if randomType not in checkType.keys():\n",
    "                checkType[randomType]={}\n",
    "            checkType[randomType][randomID]={}\n",
    "    if randomPlayer not in checkType[randomType][randomID].keys():\n",
    "            checkType[randomType][randomID][randomPlayer]=None\n",
    "    return randomType"
   ]
  },
  {
   "cell_type": "markdown",
   "metadata": {
    "pycharm": {
     "name": "#%% md\n"
    }
   },
   "source": [
    "**Completables**"
   ]
  },
  {
   "cell_type": "code",
   "execution_count": 8,
   "metadata": {
    "pycharm": {
     "name": "#%%\n"
    }
   },
   "outputs": [],
   "source": [
    "types_completables=[\"serious-game\", \"game\", \"session\", \"level\", \"quest\", \"stage\", \"combat\", \"storynode\", \"race\", \"completable\"]\n",
    "checkboxes_types_completables=GeneratorMultiCheckboxWidget(\"Completables types\", types_completables)\n",
    "\n",
    "verbs_completables=[\"initialized\", \"progressed\", \"completed\"]\n",
    "checkboxes_verbs_completables=GeneratorMultiCheckboxWidget(\"Completables verbs\", verbs_completables)\n",
    "\n",
    "template_result_progress={\n",
    "    \"extensions\": {\n",
    "\t\t\"https://w3id.org/xapi/seriousgames/extensions/progress\": None,\n",
    "\t\t\"progress\": None\n",
    "\t}\n",
    "}\n",
    "\n",
    "template_result_completed_score={\n",
    "\t\"extensions\": {\n",
    "\t\t\"success\": None,\n",
    "\t\t\"score\":None\n",
    "\t}\n",
    "}\n",
    "\n",
    "def generate_completable(change):\n",
    "    start_time=datetime.now()\n",
    "    with output:\n",
    "        print(\"Starting the data generation\")\n",
    "    verbs=checkboxes_verbs_completables.get_selected_options()\n",
    "    types=checkboxes_types_completables.get_selected_options()\n",
    "    ids=generate_IDs()\n",
    "    times=generate_times_datas()\n",
    "    player=generate_players()\n",
    "    statements=[]\n",
    "    checkCompletable={}\n",
    "    for i in range(nbtraces.value):\n",
    "        randomID=random.choice(ids)\n",
    "        randomPlayer=random.choice(player)\n",
    "        randomType = checkType(checkCompletable,randomID,randomPlayer,types)\n",
    "        if checkCompletable[randomType][randomID][randomPlayer] in [None, False]:\n",
    "            checkCompletable[randomType][randomID][randomPlayer]=True\n",
    "            randomVerb=\"initialized\"\n",
    "        else:\n",
    "            randomVerb=random.choice([\"progressed\", \"completed\"])\n",
    "            if randomVerb==\"completed\":\n",
    "                checkCompletable[randomType][randomID][randomPlayer]=False\n",
    "        time=times[i]\n",
    "        statement=generator(randomPlayer, randomVerb, randomType,randomID, time)\n",
    "        if randomVerb==\"completed\":\n",
    "            result=copy.deepcopy(template_result_completed_score)\n",
    "            result[\"extensions\"][\"score\"]=random.random()*100\n",
    "            result[\"extensions\"][\"success\"]=random.choice([True,False])\n",
    "            statement[\"result\"]=result\n",
    "        elif randomVerb==\"progressed\":\n",
    "            result=copy.deepcopy(template_result_progress)\n",
    "            progress=random.random()\n",
    "            result[\"extensions\"][\"https://w3id.org/xapi/seriousgames/extensions/progress\"]=progress\n",
    "            result[\"extensions\"][\"progress\"]=progress\n",
    "            statement[\"result\"]=result\n",
    "        statements.append(statement)\n",
    "    save_generated_data(statements, verbs, types)\n",
    "    end_time=datetime.now()\n",
    "    delta=end_time-start_time\n",
    "    with output:\n",
    "        print(\"End the data generation\")\n",
    "        print(\"Generated in \"+str(delta))\n",
    "        clear_output(wait=True)\n",
    "\n",
    "buttonCompletable=widgets.Button(description='Generate Data')\n",
    "buttonCompletable.on_click(generate_completable)\n",
    "\n",
    "tabCompletable=VBox([\n",
    "    HBox([\n",
    "        checkboxes_verbs_completables.multi_select,\n",
    "        checkboxes_types_completables.multi_select,\n",
    "        vbox_nb_traces_ID_player\n",
    "    ]),\n",
    "    buttonCompletable\n",
    "])"
   ]
  },
  {
   "cell_type": "markdown",
   "metadata": {},
   "source": [
    "**Accessibles**"
   ]
  },
  {
   "cell_type": "code",
   "execution_count": 9,
   "metadata": {
    "pycharm": {
     "name": "#%%\n"
    }
   },
   "outputs": [],
   "source": [
    "verbs_accessibles=[\"accessed\", \"skipped\"]\n",
    "checkboxes_verbs_accessibles=GeneratorMultiCheckboxWidget(\"Accessibles verbs\", verbs_accessibles)\n",
    "\n",
    "types_accessibles=[\"screen\", \"area\", \"zone\", \"cutscene\", \"accessible\"]\n",
    "checkboxes_types_accessibles=GeneratorMultiCheckboxWidget(\"Accessibles types\", types_accessibles)\n",
    "\n",
    "def generate_accessibles(change):\n",
    "    start_time=datetime.now()\n",
    "    with output:\n",
    "        print(\"Starting the data generation\")\n",
    "    verbs=checkboxes_verbs_accessibles.get_selected_options()\n",
    "    types=checkboxes_types_accessibles.get_selected_options()\n",
    "    ids=generate_IDs()\n",
    "    times=generate_times_datas()\n",
    "    player=generate_players()\n",
    "    statements=[]\n",
    "    checkTypes={}\n",
    "    for i in range(nbtraces.value):\n",
    "        randomID=random.choice(ids)\n",
    "        randomPlayer=random.choice(player)\n",
    "        randomType = checkType(checkTypes,randomID,randomPlayer,types)\n",
    "        if checkTypes[randomType][randomID][randomPlayer]==None:\n",
    "            randomVerb=\"accessed\"\n",
    "            checkTypes[randomType][randomID][randomPlayer]=True\n",
    "        else:\n",
    "            randomVerb=\"skipped\"\n",
    "            checkTypes[randomType][randomID][randomPlayer]=None\n",
    "        time=times[i]\n",
    "        statement=generator(randomPlayer, randomVerb, randomType,randomID, time)\n",
    "        statements.append(statement)\n",
    "    save_generated_data(statements, verbs, types)\n",
    "    end_time=datetime.now()\n",
    "    delta=end_time-start_time\n",
    "    with output:\n",
    "        print(\"End the data generation\")\n",
    "        print(\"Generated in \"+str(delta))\n",
    "        clear_output(wait=True)\n",
    "\n",
    "buttonAccessible=widgets.Button(description='Generate Data')\n",
    "buttonAccessible.on_click(generate_accessibles)\n",
    "\n",
    "tabAccessible=VBox([\n",
    "    HBox([\n",
    "        checkboxes_verbs_accessibles.multi_select,\n",
    "        checkboxes_types_accessibles.multi_select,\n",
    "        vbox_nb_traces_ID_player\n",
    "    ]),\n",
    "    buttonAccessible\n",
    "])"
   ]
  },
  {
   "cell_type": "markdown",
   "metadata": {},
   "source": [
    "**Alternatives**"
   ]
  },
  {
   "cell_type": "code",
   "execution_count": 10,
   "metadata": {
    "pycharm": {
     "name": "#%%\n"
    }
   },
   "outputs": [],
   "source": [
    "verbs_alternatives=[\"selected\", \"unlocked\"]\n",
    "checkboxes_verbs_alternatives=GeneratorMultiCheckboxWidget(\"Aternatives verbs\", verbs_alternatives)\n",
    "\n",
    "types_alternatives=[\"question\", \"menu\", \"dialog\", \"path\", \"arena\", \"alternative\"]\n",
    "checkboxes_types_alternatives=GeneratorMultiCheckboxWidget(\"Aternatives types\", types_alternatives)\n",
    "\n",
    "template_result_alternative_response={\n",
    "\t\"response\": None,\n",
    "\t\"success\": None\n",
    "}\n",
    "\n",
    "def generate_alternatives(change):\n",
    "    start_time=datetime.now()\n",
    "    with output:\n",
    "        print(\"Starting the data generation\")\n",
    "    verbs=checkboxes_verbs_alternatives.get_selected_options()\n",
    "    types=checkboxes_types_alternatives.get_selected_options()\n",
    "    ids=generate_IDs()\n",
    "    times=generate_times_datas()\n",
    "    player=generate_players()\n",
    "    statements=[]\n",
    "    checkTypes={}\n",
    "    checkAnswer={}\n",
    "    for i in range(nbtraces.value):\n",
    "        randomID=random.choice(ids)\n",
    "        randomPlayer=random.choice(player)\n",
    "        randomVerb=random.choice(verbs)\n",
    "        randomType = checkType(checkTypes,randomID,randomPlayer,types)\n",
    "        time=times[i]\n",
    "        statement=generator(randomPlayer, randomVerb, randomType,randomID, time)\n",
    "        if randomType not in checkAnswer.keys():\n",
    "            checkAnswer[randomType]={}\n",
    "        if randomID not in checkAnswer[randomType].keys():\n",
    "            checkAnswer[randomType][randomID]=str(uuid.uuid4())\n",
    "        if randomType==\"alternative\":\n",
    "            result=copy.deepcopy(template_result_alternative_response)\n",
    "            sucess=random.choice([True, False])\n",
    "            if sucess:\n",
    "                result[\"response\"]=checkAnswer[randomType][randomID]\n",
    "            else:\n",
    "                result[\"response\"]=str(uuid.uuid4())\n",
    "            result[\"success\"]=sucess\n",
    "            statement[\"result\"]=result\n",
    "        statements.append(statement)\n",
    "    save_generated_data(statements, verbs, types)\n",
    "    end_time=datetime.now()\n",
    "    delta=end_time-start_time\n",
    "    with output:\n",
    "        print(\"End the data generation\")\n",
    "        print(\"Generated in \"+str(delta))\n",
    "        clear_output(wait=True)\n",
    "\n",
    "buttonAlternative=widgets.Button(description='Generate Data')\n",
    "buttonAlternative.on_click(generate_alternatives)\n",
    "\n",
    "tabAlternatives=VBox([\n",
    "    HBox([\n",
    "        checkboxes_verbs_alternatives.multi_select,\n",
    "        checkboxes_types_alternatives.multi_select,\n",
    "        vbox_nb_traces_ID_player\n",
    "    ]),\n",
    "    buttonAlternative\n",
    "])"
   ]
  },
  {
   "cell_type": "markdown",
   "metadata": {},
   "source": [
    "**GameObjects**"
   ]
  },
  {
   "cell_type": "code",
   "execution_count": 11,
   "metadata": {
    "pycharm": {
     "name": "#%%\n"
    }
   },
   "outputs": [],
   "source": [
    "verbs_gameObjects=[\"interacted\", \"used\"]\n",
    "checkboxes_verbs_gameObjects=GeneratorMultiCheckboxWidget(\"GameObjects verbs\", verbs_gameObjects)\n",
    "\n",
    "types_gameObjects=[\"enemy\", \"npc\", \"item\", \"gameobject\"]\n",
    "checkboxes_types_gameObjects=GeneratorMultiCheckboxWidget(\"GameObjects types\", types_gameObjects)\n",
    "\n",
    "action_types=[\"talk_to\", \"examine\", \"use\", \"drag_to\", \"custom\"]\n",
    "checkboxes_action_types=GeneratorMultiCheckboxWidget(\"ActionTypes\", action_types)\n",
    "\n",
    "template_result_action_type_interact={\n",
    "    \"extensions\": {\n",
    "        \"action_type\": None,\n",
    "    }\n",
    "}\n",
    "\n",
    "def generate_GameObjects(change):\n",
    "    start_time=datetime.now()\n",
    "    with output:\n",
    "        print(\"Starting the data generation\")\n",
    "    verbs=checkboxes_verbs_gameObjects.get_selected_options()\n",
    "    types=checkboxes_types_gameObjects.get_selected_options()\n",
    "    actionTypes=checkboxes_action_types.get_selected_options()\n",
    "    ids=generate_IDs()\n",
    "    times=generate_times_datas()\n",
    "    player=generate_players()\n",
    "    statements=[]\n",
    "    checkTypes={}\n",
    "    checkActionType={}\n",
    "    for i in range(nbtraces.value):\n",
    "        randomID=random.choice(ids)\n",
    "        randomPlayer=random.choice(player)\n",
    "        randomVerb=random.choice(verbs)\n",
    "        randomType= checkType(checkTypes,randomID,randomPlayer,types)\n",
    "        time=times[i]\n",
    "        statement=generator(randomPlayer, randomVerb, randomType,randomID, time)\n",
    "        if randomVerb==\"interacted\":\n",
    "            if randomType not in checkActionType.keys():\n",
    "                checkActionType[randomID]=random.choice([True, False])\n",
    "            generateActionType=checkActionType[randomID]\n",
    "            if generateActionType and not len(actionTypes)==0:\n",
    "                actiontype=random.choice(actionTypes)\n",
    "                if actiontype==\"custom\":\n",
    "                    actiontype=str(uuid.uuid4())\n",
    "                    actionTypes.append(actiontype)\n",
    "                result_action_type=copy.deepcopy(template_result_action_type_interact)\n",
    "                result_action_type[\"extensions\"][\"action_type\"]=actiontype\n",
    "                statement[\"result\"]=result_action_type\n",
    "        statements.append(statement)\n",
    "    save_generated_data(statements, verbs, types)\n",
    "    end_time=datetime.now()\n",
    "    delta=end_time-start_time\n",
    "    with output:\n",
    "        print(\"End the data generation\")\n",
    "        print(\"Generated in \"+str(delta))\n",
    "        clear_output(wait=True)\n",
    "\n",
    "buttonGameObjects=widgets.Button(description='Generate Data')\n",
    "buttonGameObjects.on_click(generate_GameObjects)\n",
    "\n",
    "tabgameObjects=VBox([\n",
    "    HBox([\n",
    "        checkboxes_verbs_gameObjects.multi_select,\n",
    "        checkboxes_types_gameObjects.multi_select,\n",
    "        checkboxes_action_types.multi_select\n",
    "    ]),\n",
    "    HBox([\n",
    "        vbox_nb_traces_ID_player,\n",
    "        buttonGameObjects\n",
    "    ])\n",
    "])"
   ]
  },
  {
   "cell_type": "markdown",
   "metadata": {},
   "source": [
    "**User interface**"
   ]
  },
  {
   "cell_type": "code",
   "execution_count": 12,
   "metadata": {
    "pycharm": {
     "name": "#%%\n"
    }
   },
   "outputs": [
    {
     "data": {
      "application/vnd.jupyter.widget-view+json": {
       "model_id": "26cb0207a5434b429dfcc1a1c7e2c93e",
       "version_major": 2,
       "version_minor": 0
      },
      "text/plain": [
       "Tab(children=(VBox(children=(HBox(children=(VBox(children=(HTML(value='Completables verbs'), HBox(children=(Bu…"
      ]
     },
     "metadata": {},
     "output_type": "display_data"
    },
    {
     "data": {
      "application/vnd.jupyter.widget-view+json": {
       "model_id": "0c4cf18bffc74f178b8043e7d80b0908",
       "version_major": 2,
       "version_minor": 0
      },
      "text/plain": [
       "Output()"
      ]
     },
     "metadata": {},
     "output_type": "display_data"
    }
   ],
   "source": [
    "types=[\"Completables\", \"Accessibles\", \"Alternatives\", \"GameObjects\"]\n",
    "\n",
    "tabs=widgets.Tab([tabCompletable, tabAccessible, tabAlternatives, tabgameObjects])\n",
    "\n",
    "def clearoutput(change):\n",
    "    with output:\n",
    "        clear_output(wait=False)\n",
    "\n",
    "tabs.observe(clearoutput, 'selected_index')\n",
    "\n",
    "for i in range(len(types)):\n",
    "    tabs.set_title(i, types[i])\n",
    "    i+=1\n",
    "\n",
    "display(tabs)\n",
    "display(output)"
   ]
  },
  {
   "cell_type": "code",
   "execution_count": null,
   "metadata": {
    "pycharm": {
     "name": "#%%\n"
    }
   },
   "outputs": [],
   "source": []
  }
 ],
 "metadata": {
  "kernelspec": {
   "display_name": "Python 3",
   "language": "python",
   "name": "python3"
  },
  "language_info": {
   "codemirror_mode": {
    "name": "ipython",
    "version": 3
   },
   "file_extension": ".py",
   "mimetype": "text/x-python",
   "name": "python",
   "nbconvert_exporter": "python",
   "pygments_lexer": "ipython3",
   "version": "3.6.10"
  }
 },
 "nbformat": 4,
 "nbformat_minor": 1
}